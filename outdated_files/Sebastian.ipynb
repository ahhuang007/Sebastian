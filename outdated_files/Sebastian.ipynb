{
  "nbformat": 4,
  "nbformat_minor": 0,
  "metadata": {
    "colab": {
      "name": "Sebastian.ipynb",
      "provenance": [],
      "authorship_tag": "ABX9TyPDC7iQAGlyk7CCRIMcSh0x",
      "include_colab_link": true
    },
    "kernelspec": {
      "name": "python3",
      "display_name": "Python 3"
    },
    "language_info": {
      "name": "python"
    },
    "accelerator": "TPU"
  },
  "cells": [
    {
      "cell_type": "markdown",
      "metadata": {
        "id": "view-in-github",
        "colab_type": "text"
      },
      "source": [
        "<a href=\"https://colab.research.google.com/github/ahhuang007/Sebastian/blob/main/Sebastian.ipynb\" target=\"_parent\"><img src=\"https://colab.research.google.com/assets/colab-badge.svg\" alt=\"Open In Colab\"/></a>"
      ]
    },
    {
      "cell_type": "code",
      "metadata": {
        "colab": {
          "base_uri": "https://localhost:8080/"
        },
        "id": "BqY1UMO1W3zp",
        "outputId": "af02322e-94c2-4df0-93c7-510df46b6239"
      },
      "source": [
        "!git clone https://github.com/ahhuang007/Sebastian.git"
      ],
      "execution_count": 1,
      "outputs": [
        {
          "output_type": "stream",
          "name": "stdout",
          "text": [
            "Cloning into 'Sebastian'...\n",
            "remote: Enumerating objects: 214, done.\u001b[K\n",
            "remote: Counting objects: 100% (214/214), done.\u001b[K\n",
            "remote: Compressing objects: 100% (151/151), done.\u001b[K\n",
            "remote: Total 214 (delta 67), reused 205 (delta 58), pack-reused 0\u001b[K\n",
            "Receiving objects: 100% (214/214), 51.30 MiB | 32.47 MiB/s, done.\n",
            "Resolving deltas: 100% (67/67), done.\n"
          ]
        }
      ]
    },
    {
      "cell_type": "code",
      "metadata": {
        "colab": {
          "base_uri": "https://localhost:8080/"
        },
        "id": "AjUfNv0AW859",
        "outputId": "37ffd0dc-8c56-41ec-d3f7-94e6acb5ef50"
      },
      "source": [
        "!pwd"
      ],
      "execution_count": 2,
      "outputs": [
        {
          "output_type": "stream",
          "name": "stdout",
          "text": [
            "/content\n"
          ]
        }
      ]
    },
    {
      "cell_type": "code",
      "metadata": {
        "colab": {
          "base_uri": "https://localhost:8080/"
        },
        "id": "7FT8PUygW89f",
        "outputId": "0c99bcb9-9d91-45a8-ef1a-bca0f8424cdf"
      },
      "source": [
        "%cd Sebastian/gym-seb"
      ],
      "execution_count": 3,
      "outputs": [
        {
          "output_type": "stream",
          "name": "stdout",
          "text": [
            "/content/Sebastian/gym-seb\n"
          ]
        }
      ]
    },
    {
      "cell_type": "code",
      "metadata": {
        "colab": {
          "base_uri": "https://localhost:8080/"
        },
        "id": "5p_HxtlbW9HM",
        "outputId": "b1785ab1-2d59-44c4-d0c7-1431bc6abdfa"
      },
      "source": [
        "!pip install -e ."
      ],
      "execution_count": 5,
      "outputs": [
        {
          "output_type": "stream",
          "name": "stdout",
          "text": [
            "Obtaining file:///content/Sebastian/gym-seb\n",
            "Requirement already satisfied: gym in /usr/local/lib/python3.7/dist-packages (from gym-seb==0.0.2) (0.17.3)\n",
            "Collecting pybullet\n",
            "  Using cached pybullet-3.1.7.tar.gz (79.0 MB)\n",
            "Requirement already satisfied: numpy in /usr/local/lib/python3.7/dist-packages (from gym-seb==0.0.2) (1.19.5)\n",
            "Requirement already satisfied: pandas in /usr/local/lib/python3.7/dist-packages (from gym-seb==0.0.2) (1.1.5)\n",
            "Requirement already satisfied: scipy in /usr/local/lib/python3.7/dist-packages (from gym->gym-seb==0.0.2) (1.4.1)\n",
            "Requirement already satisfied: cloudpickle<1.7.0,>=1.2.0 in /usr/local/lib/python3.7/dist-packages (from gym->gym-seb==0.0.2) (1.3.0)\n",
            "Requirement already satisfied: pyglet<=1.5.0,>=1.4.0 in /usr/local/lib/python3.7/dist-packages (from gym->gym-seb==0.0.2) (1.5.0)\n",
            "Requirement already satisfied: future in /usr/local/lib/python3.7/dist-packages (from pyglet<=1.5.0,>=1.4.0->gym->gym-seb==0.0.2) (0.16.0)\n",
            "Requirement already satisfied: pytz>=2017.2 in /usr/local/lib/python3.7/dist-packages (from pandas->gym-seb==0.0.2) (2018.9)\n",
            "Requirement already satisfied: python-dateutil>=2.7.3 in /usr/local/lib/python3.7/dist-packages (from pandas->gym-seb==0.0.2) (2.8.2)\n",
            "Requirement already satisfied: six>=1.5 in /usr/local/lib/python3.7/dist-packages (from python-dateutil>=2.7.3->pandas->gym-seb==0.0.2) (1.15.0)\n",
            "Building wheels for collected packages: pybullet\n",
            "  Building wheel for pybullet (setup.py) ... \u001b[?25l\u001b[?25hdone\n",
            "  Created wheel for pybullet: filename=pybullet-3.1.7-cp37-cp37m-linux_x86_64.whl size=89750866 sha256=b53fcc2b1f82a7ef6aa8887a61312eb178dbc15e57c5bfc71c97f1a4e2de33d8\n",
            "  Stored in directory: /root/.cache/pip/wheels/70/1c/62/86c8b68885c24123d87c5392d6678aa2b68a1796c8113e1aa6\n",
            "Successfully built pybullet\n",
            "Installing collected packages: pybullet, gym-seb\n",
            "  Running setup.py develop for gym-seb\n",
            "Successfully installed gym-seb-0.0.2 pybullet-3.1.7\n"
          ]
        }
      ]
    },
    {
      "cell_type": "markdown",
      "metadata": {
        "id": "5aAHGLoEXFHd"
      },
      "source": [
        "Restart runtime after this so the environment will show up"
      ]
    },
    {
      "cell_type": "code",
      "metadata": {
        "colab": {
          "base_uri": "https://localhost:8080/"
        },
        "id": "L-EssDsVXFwr",
        "outputId": "b75246d5-0497-4277-e8c4-0d3ccef5c8d6"
      },
      "source": [
        "%cd Sebastian"
      ],
      "execution_count": 1,
      "outputs": [
        {
          "output_type": "stream",
          "name": "stdout",
          "text": [
            "/content/Sebastian\n"
          ]
        }
      ]
    },
    {
      "cell_type": "markdown",
      "metadata": {
        "id": "4Pv7xlVeXKv2"
      },
      "source": [
        "Just copying the gym_test.py code here because it's the main stuff I need to edit"
      ]
    },
    {
      "cell_type": "code",
      "metadata": {
        "id": "c1op5i_YXJSV"
      },
      "source": [
        "import gym\n",
        "from agent import Agent\n",
        "import numpy as np"
      ],
      "execution_count": 2,
      "outputs": []
    },
    {
      "cell_type": "code",
      "metadata": {
        "colab": {
          "base_uri": "https://localhost:8080/"
        },
        "id": "AqJsS-3MXN1F",
        "outputId": "9cb41687-e593-4ede-d25c-9400ad540bc4"
      },
      "source": [
        "import gym_seb\n",
        "\n",
        "env = gym.make('seb-v0')\n",
        "agent = Agent(input_dims=env.observation_space.shape, env=env,\n",
        "            n_actions=env.action_space.shape[0])\n",
        "\n",
        "best_reward = 0\n",
        "scores = []\n",
        "load_checkpoint = False\n",
        "epochs = 250"
      ],
      "execution_count": 3,
      "outputs": [
        {
          "output_type": "stream",
          "name": "stderr",
          "text": [
            "/usr/local/lib/python3.7/dist-packages/gym/logger.py:30: UserWarning: \u001b[33mWARN: Box bound precision lowered by casting to float32\u001b[0m\n",
            "  warnings.warn(colorize('%s: %s'%('WARN', msg % args), 'yellow'))\n"
          ]
        }
      ]
    },
    {
      "cell_type": "code",
      "metadata": {
        "id": "ZPV8aROAZiL5"
      },
      "source": [
        "if load_checkpoint:\n",
        "    n_steps = 0\n",
        "    while n_steps <= agent.batch_size:\n",
        "        observation = env.reset()\n",
        "        action = env.action_space.sample()\n",
        "        observation_, reward, info = env.step(action)\n",
        "        agent.remember(observation, action, reward, observation_)\n",
        "        n_steps += 1\n",
        "    agent.learn()\n",
        "    agent.load_models()\n",
        "    evaluate = True\n",
        "else:\n",
        "    evaluate = False"
      ],
      "execution_count": 4,
      "outputs": []
    },
    {
      "cell_type": "code",
      "metadata": {
        "colab": {
          "base_uri": "https://localhost:8080/",
          "height": 1000
        },
        "id": "2dzGcJSSZp7H",
        "outputId": "642522f4-28ca-45b0-da1a-bfcc60076969"
      },
      "source": [
        "for i in range(epochs):\n",
        "    observation = env.reset()\n",
        "    score = 0\n",
        "    iterations = 2000\n",
        "    for j in range(iterations):\n",
        "        action = agent.choose_action(observation, evaluate)\n",
        "        observation_, reward, info = env.step(action)\n",
        "        score += reward\n",
        "        agent.remember(observation, action, reward, observation_)\n",
        "        if not load_checkpoint:\n",
        "            agent.learn()\n",
        "        observation = observation_\n",
        "\n",
        "    scores.append(score)\n",
        "    avg_score = np.mean(scores[-100:])\n",
        "    #avg_score = np.mean(scores[0:])\n",
        "\n",
        "    if avg_score > best_reward:\n",
        "        best_reward = avg_score\n",
        "        if not load_checkpoint:\n",
        "            agent.save_models()\n",
        "\n",
        "    print('episode ', i, 'score %.4f' % score, 'avg score %.4f' % avg_score)"
      ],
      "execution_count": 5,
      "outputs": [
        {
          "output_type": "stream",
          "name": "stdout",
          "text": [
            "episode  0 score -124.3122 avg score -124.3122\n",
            "episode  1 score -87.6841 avg score -105.9982\n",
            "episode  2 score -115.8821 avg score -109.2928\n",
            "episode  3 score -118.2870 avg score -111.5414\n",
            "episode  4 score -8.3843 avg score -90.9100\n",
            "episode  5 score -17.0074 avg score -78.5929\n",
            "episode  6 score -24.1015 avg score -70.8084\n",
            "episode  7 score -81.5100 avg score -72.1461\n",
            "episode  8 score -149.5488 avg score -80.7464\n",
            "episode  9 score -107.0352 avg score -83.3753\n",
            "episode  10 score -121.0517 avg score -86.8004\n",
            "episode  11 score -25.9604 avg score -81.7304\n",
            "episode  12 score -317.6506 avg score -99.8781\n",
            "episode  13 score -7.7099 avg score -93.2947\n",
            "episode  14 score -5.1449 avg score -87.4180\n",
            "episode  15 score -13.8031 avg score -82.8171\n",
            "episode  16 score -18.2600 avg score -79.0196\n",
            "episode  17 score -16.6518 avg score -75.5547\n",
            "episode  18 score -19.5803 avg score -72.6087\n",
            "episode  19 score -52.6564 avg score -71.6111\n",
            "episode  20 score -26.7770 avg score -69.4761\n",
            "episode  21 score -67.9371 avg score -69.4062\n",
            "episode  22 score -160.1785 avg score -73.3528\n",
            "episode  23 score -37.2890 avg score -71.8501\n",
            "episode  24 score -20.9166 avg score -69.8128\n",
            "episode  25 score -29.9342 avg score -68.2790\n",
            "episode  26 score -20.3695 avg score -66.5046\n",
            "episode  27 score -39.7493 avg score -65.5490\n",
            "episode  28 score -185.8245 avg score -69.6965\n",
            "episode  29 score -121.7026 avg score -71.4300\n",
            "episode  30 score -44.3597 avg score -70.5568\n",
            "episode  31 score -134.7026 avg score -72.5613\n",
            "episode  32 score -479.1328 avg score -84.8817\n",
            "episode  33 score -189.8747 avg score -87.9697\n",
            "episode  34 score -444.1744 avg score -98.1470\n",
            "episode  35 score -23.6381 avg score -96.0773\n",
            "episode  36 score -69.9923 avg score -95.3723\n",
            "episode  37 score -12.8901 avg score -93.2017\n",
            "episode  38 score -24.4444 avg score -91.4387\n",
            "episode  39 score -373.2993 avg score -98.4852\n",
            "episode  40 score -122.4985 avg score -99.0709\n",
            "episode  41 score -65.9235 avg score -98.2817\n",
            "episode  42 score -41.5966 avg score -96.9634\n",
            "episode  43 score -40.0241 avg score -95.6693\n",
            "episode  44 score -81.4840 avg score -95.3541\n",
            "episode  45 score -162.9186 avg score -96.8229\n",
            "episode  46 score -35.2375 avg score -95.5126\n",
            "episode  47 score -96.6096 avg score -95.5354\n"
          ]
        },
        {
          "output_type": "error",
          "ename": "KeyboardInterrupt",
          "evalue": "ignored",
          "traceback": [
            "\u001b[0;31m---------------------------------------------------------------------------\u001b[0m",
            "\u001b[0;31mKeyboardInterrupt\u001b[0m                         Traceback (most recent call last)",
            "\u001b[0;32m<ipython-input-5-22345a912046>\u001b[0m in \u001b[0;36m<module>\u001b[0;34m()\u001b[0m\n\u001b[1;32m      9\u001b[0m         \u001b[0magent\u001b[0m\u001b[0;34m.\u001b[0m\u001b[0mremember\u001b[0m\u001b[0;34m(\u001b[0m\u001b[0mobservation\u001b[0m\u001b[0;34m,\u001b[0m \u001b[0maction\u001b[0m\u001b[0;34m,\u001b[0m \u001b[0mreward\u001b[0m\u001b[0;34m,\u001b[0m \u001b[0mobservation_\u001b[0m\u001b[0;34m)\u001b[0m\u001b[0;34m\u001b[0m\u001b[0;34m\u001b[0m\u001b[0m\n\u001b[1;32m     10\u001b[0m         \u001b[0;32mif\u001b[0m \u001b[0;32mnot\u001b[0m \u001b[0mload_checkpoint\u001b[0m\u001b[0;34m:\u001b[0m\u001b[0;34m\u001b[0m\u001b[0;34m\u001b[0m\u001b[0m\n\u001b[0;32m---> 11\u001b[0;31m             \u001b[0magent\u001b[0m\u001b[0;34m.\u001b[0m\u001b[0mlearn\u001b[0m\u001b[0;34m(\u001b[0m\u001b[0;34m)\u001b[0m\u001b[0;34m\u001b[0m\u001b[0;34m\u001b[0m\u001b[0m\n\u001b[0m\u001b[1;32m     12\u001b[0m         \u001b[0mobservation\u001b[0m \u001b[0;34m=\u001b[0m \u001b[0mobservation_\u001b[0m\u001b[0;34m\u001b[0m\u001b[0;34m\u001b[0m\u001b[0m\n\u001b[1;32m     13\u001b[0m \u001b[0;34m\u001b[0m\u001b[0m\n",
            "\u001b[0;32m/content/Sebastian/agent.py\u001b[0m in \u001b[0;36mlearn\u001b[0;34m(self)\u001b[0m\n\u001b[1;32m     91\u001b[0m \u001b[0;34m\u001b[0m\u001b[0m\n\u001b[1;32m     92\u001b[0m         \u001b[0mstate\u001b[0m\u001b[0;34m,\u001b[0m \u001b[0maction\u001b[0m\u001b[0;34m,\u001b[0m \u001b[0mreward\u001b[0m\u001b[0;34m,\u001b[0m \u001b[0mnew_state\u001b[0m \u001b[0;34m=\u001b[0m\u001b[0;31m \u001b[0m\u001b[0;31m\\\u001b[0m\u001b[0;34m\u001b[0m\u001b[0;34m\u001b[0m\u001b[0m\n\u001b[0;32m---> 93\u001b[0;31m                 \u001b[0mself\u001b[0m\u001b[0;34m.\u001b[0m\u001b[0mmemory\u001b[0m\u001b[0;34m.\u001b[0m\u001b[0msample_buffer\u001b[0m\u001b[0;34m(\u001b[0m\u001b[0mself\u001b[0m\u001b[0;34m.\u001b[0m\u001b[0mbatch_size\u001b[0m\u001b[0;34m)\u001b[0m\u001b[0;34m\u001b[0m\u001b[0;34m\u001b[0m\u001b[0m\n\u001b[0m\u001b[1;32m     94\u001b[0m \u001b[0;34m\u001b[0m\u001b[0m\n\u001b[1;32m     95\u001b[0m         \u001b[0mstates\u001b[0m \u001b[0;34m=\u001b[0m \u001b[0mtf\u001b[0m\u001b[0;34m.\u001b[0m\u001b[0mconvert_to_tensor\u001b[0m\u001b[0;34m(\u001b[0m\u001b[0mstate\u001b[0m\u001b[0;34m,\u001b[0m \u001b[0mdtype\u001b[0m\u001b[0;34m=\u001b[0m\u001b[0mtf\u001b[0m\u001b[0;34m.\u001b[0m\u001b[0mfloat32\u001b[0m\u001b[0;34m)\u001b[0m\u001b[0;34m\u001b[0m\u001b[0;34m\u001b[0m\u001b[0m\n",
            "\u001b[0;32m/content/Sebastian/buffers.py\u001b[0m in \u001b[0;36msample_buffer\u001b[0;34m(self, batch_size)\u001b[0m\n\u001b[1;32m     33\u001b[0m         \u001b[0mmax_mem\u001b[0m \u001b[0;34m=\u001b[0m \u001b[0mmin\u001b[0m\u001b[0;34m(\u001b[0m\u001b[0mself\u001b[0m\u001b[0;34m.\u001b[0m\u001b[0mmem_cntr\u001b[0m\u001b[0;34m,\u001b[0m \u001b[0mself\u001b[0m\u001b[0;34m.\u001b[0m\u001b[0mmem_size\u001b[0m\u001b[0;34m)\u001b[0m\u001b[0;34m\u001b[0m\u001b[0;34m\u001b[0m\u001b[0m\n\u001b[1;32m     34\u001b[0m \u001b[0;34m\u001b[0m\u001b[0m\n\u001b[0;32m---> 35\u001b[0;31m         \u001b[0mbatch\u001b[0m \u001b[0;34m=\u001b[0m \u001b[0mnp\u001b[0m\u001b[0;34m.\u001b[0m\u001b[0mrandom\u001b[0m\u001b[0;34m.\u001b[0m\u001b[0mchoice\u001b[0m\u001b[0;34m(\u001b[0m\u001b[0mmax_mem\u001b[0m\u001b[0;34m,\u001b[0m \u001b[0mbatch_size\u001b[0m\u001b[0;34m,\u001b[0m \u001b[0mreplace\u001b[0m\u001b[0;34m=\u001b[0m\u001b[0;32mFalse\u001b[0m\u001b[0;34m)\u001b[0m\u001b[0;34m\u001b[0m\u001b[0;34m\u001b[0m\u001b[0m\n\u001b[0m\u001b[1;32m     36\u001b[0m \u001b[0;34m\u001b[0m\u001b[0m\n\u001b[1;32m     37\u001b[0m         \u001b[0mstates\u001b[0m \u001b[0;34m=\u001b[0m \u001b[0mself\u001b[0m\u001b[0;34m.\u001b[0m\u001b[0mstate_memory\u001b[0m\u001b[0;34m[\u001b[0m\u001b[0mbatch\u001b[0m\u001b[0;34m]\u001b[0m\u001b[0;34m\u001b[0m\u001b[0;34m\u001b[0m\u001b[0m\n",
            "\u001b[0;31mKeyboardInterrupt\u001b[0m: "
          ]
        }
      ]
    },
    {
      "cell_type": "code",
      "metadata": {
        "colab": {
          "base_uri": "https://localhost:8080/",
          "height": 281
        },
        "id": "ESlxDRTvZ3bf",
        "outputId": "35bc98ee-e677-420b-ad2e-6c756e57e91f"
      },
      "source": [
        "import matplotlib.pyplot as plt\n",
        "\n",
        "if not load_checkpoint:\n",
        "    x = [i+1 for i in range(epochs)]\n",
        "    running_avg = np.zeros(len(scores))\n",
        "    for i in range(len(running_avg)):\n",
        "        running_avg[i] = np.mean(scores[max(0, i-100):(i+1)])\n",
        "    plt.plot(x, running_avg)\n",
        "    plt.title('Running average of previous 100 scores')\n",
        "    #plt.savefig(figure_file)\n",
        "      "
      ],
      "execution_count": null,
      "outputs": [
        {
          "output_type": "display_data",
          "data": {
            "image/png": "[encoded data removed]",
            "text/plain": [
              "<Figure size 432x288 with 1 Axes>"
            ]
          },
          "metadata": {
            "needs_background": "light"
          }
        }
      ]
    },
    {
      "cell_type": "code",
      "metadata": {
        "id": "xBDDDBzTZ4mv"
      },
      "source": [
        "env.close()"
      ],
      "execution_count": null,
      "outputs": []
    }
  ]
}